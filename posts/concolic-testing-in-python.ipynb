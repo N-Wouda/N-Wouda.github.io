{
 "cells": [
  {
   "cell_type": "markdown",
   "metadata": {
    "pycharm": {
     "name": "#%% md\n"
    }
   },
   "source": [
    "A few months ago, I inherited a code base devoid of any tests. I realised quite\n",
    "quickly there might be a better design for the entire project, and wanted to get\n",
    "there cautiously via continuous refactoring. \n",
    "\n",
    "Without the support harness of a test suite, it is hard to guarantee refactored\n",
    "code has the same functionality as the old, battle-tested code. As such, refactoring\n",
    "legacy projects begins with writing a test suite covering most (or all) execution\n",
    "paths. For my project I did this by hand, but that laborious process piqued my\n",
    "interest in automated test generation techniques.\n",
    "\n",
    "I recently came across [this](https://www.fuzzingbook.org/beta/html/PrototypingWithPython.html)\n",
    "fascinating piece by Andreas Zeller on automated testing techniques in Python.\n",
    "Zeller prototypes a symbolic test generator based around the `z3` SMT solver. His\n",
    "prototype is impressive, but quite limited: it does not handle looping constructs,\n",
    "function calls, or functions of impure state. \n",
    "\n",
    "Here we extend the approach to also include concrete values from earlier \n",
    "executions, resulting in a simple concolic test generator.\n",
    "<!-- TEASER_END -->\n",
    "\n",
    "Zeller takes the following, well-known _triangle_ function that classifies a\n",
    "triangle with integral sides `a`, `b`, and `c` into one of three categories."
   ]
  },
  {
   "cell_type": "code",
   "execution_count": 29,
   "metadata": {
    "pycharm": {
     "name": "#%%  \n",
     "is_executing": false
    }
   },
   "outputs": [],
   "source": [
    "def triangle(a: int, b: int, c: int) -> str:\n",
    "    if a == b:\n",
    "        if b == c:\n",
    "            return 'equilateral'\n",
    "        else:\n",
    "            return 'isosceles #1'\n",
    "    else:\n",
    "        if b == c:\n",
    "            return 'isosceles #2'\n",
    "        else:\n",
    "            if a == c:\n",
    "                return 'isosceles #3'\n",
    "            else:\n",
    "                return 'scalene'"
   ]
  },
  {
   "cell_type": "markdown",
   "source": [
    "He then develops a simple symbolic test generator that systematically creates\n",
    "test inputs covering all possible execution paths in the triangle function."
   ],
   "metadata": {
    "collapsed": false,
    "pycharm": {
     "name": "#%% md\n"
    }
   }
  },
  {
   "cell_type": "code",
   "execution_count": 2,
   "outputs": [],
   "source": [
    "import sys\n",
    "import inspect"
   ],
   "metadata": {
    "collapsed": false,
    "pycharm": {
     "name": "#%%\n",
     "is_executing": false
    }
   }
  },
  {
   "cell_type": "code",
   "execution_count": 21,
   "outputs": [],
   "source": [
    "def traceit(frame, event, arg):\n",
    "    f_code = frame.f_code\n",
    "    f_name = f_code.co_name\n",
    "    lineno = frame.f_lineno\n",
    "    vars = frame.f_locals\n",
    "\n",
    "    s_lines, start_line_num = inspect.getsourcelines(f_code)\n",
    "    loc = f\"{f_name}:{lineno} {s_lines[lineno - start_line_num].rstrip()}\"\n",
    "    vars = \", \".join(f\"{name} = {vars[name]}\" for name in vars)\n",
    "\n",
    "    print(f\"{loc:60} ({vars})\")\n",
    "\n",
    "    return traceit"
   ],
   "metadata": {
    "collapsed": false,
    "pycharm": {
     "name": "#%%\n",
     "is_executing": false
    }
   }
  },
  {
   "cell_type": "code",
   "execution_count": 22,
   "outputs": [],
   "source": [
    "def triangle_traced():\n",
    "    sys.settrace(traceit)\n",
    "    triangle(2, 2, 1)\n",
    "    sys.settrace(None)"
   ],
   "metadata": {
    "collapsed": false,
    "pycharm": {
     "name": "#%%\n",
     "is_executing": false
    }
   }
  },
  {
   "cell_type": "code",
   "execution_count": 23,
   "outputs": [
    {
     "name": "stdout",
     "text": [
      "triangle:2 def triangle(a: int, b: int, c: int) -> str:      (a = 2, b = 2, c = 1)\n",
      "triangle:3     if a == b:                                    (a = 2, b = 2, c = 1)\ntriangle:4         if b == c:                                (a = 2, b = 2, c = 1)\ntriangle:7             return 'isosceles #1'                 (a = 2, b = 2, c = 1)\ntriangle:7             return 'isosceles #1'                 (a = 2, b = 2, c = 1)\n"
     ],
     "output_type": "stream"
    }
   ],
   "source": [
    "triangle_traced()"
   ],
   "metadata": {
    "collapsed": false,
    "pycharm": {
     "name": "#%%\n",
     "is_executing": false
    }
   }
  },
  {
   "cell_type": "code",
   "execution_count": 6,
   "outputs": [],
   "source": [
    "import ast\n",
    "import astor"
   ],
   "metadata": {
    "collapsed": false,
    "pycharm": {
     "name": "#%%\n",
     "is_executing": false
    }
   }
  },
  {
   "cell_type": "code",
   "execution_count": 10,
   "outputs": [],
   "source": [
    "triangle_source = inspect.getsource(triangle)\n",
    "triangle_ast = ast.parse(triangle_source)"
   ],
   "metadata": {
    "collapsed": false,
    "pycharm": {
     "name": "#%%\n",
     "is_executing": false
    }
   }
  },
  {
   "cell_type": "code",
   "execution_count": 11,
   "outputs": [],
   "source": [
    "def collect_conditions(tree):\n",
    "    conditions = []\n",
    "\n",
    "    def traverse(node):\n",
    "        if isinstance(node, ast.If):\n",
    "            cond = astor.to_source(node.test).strip()\n",
    "            conditions.append(cond)\n",
    "\n",
    "        for child in ast.iter_child_nodes(node):\n",
    "            traverse(child)\n",
    "\n",
    "    traverse(tree)\n",
    "    return conditions"
   ],
   "metadata": {
    "collapsed": false,
    "pycharm": {
     "name": "#%%\n",
     "is_executing": false
    }
   }
  },
  {
   "cell_type": "code",
   "execution_count": 12,
   "outputs": [
    {
     "data": {
      "text/plain": "['(a == b)', '(b == c)', '(b == c)', '(a == c)']"
     },
     "metadata": {},
     "output_type": "execute_result",
     "execution_count": 12
    }
   ],
   "source": [
    "collect_conditions(triangle_ast)"
   ],
   "metadata": {
    "collapsed": false,
    "pycharm": {
     "name": "#%%\n",
     "is_executing": false
    }
   }
  },
  {
   "cell_type": "code",
   "execution_count": 13,
   "outputs": [],
   "source": [
    "def collect_path_conditions(tree):\n",
    "    paths = []\n",
    "\n",
    "    def traverse_if_children(children, context, cond):\n",
    "        old_paths = len(paths)\n",
    "\n",
    "        for child in children:\n",
    "            traverse(child, context + [cond])\n",
    "\n",
    "        if len(paths) == old_paths:\n",
    "            paths.append(context + [cond])\n",
    "\n",
    "    def traverse(node, context):\n",
    "        if isinstance(node, ast.If):\n",
    "            cond = astor.to_source(node.test).strip()\n",
    "            not_cond = \"z3.Not\" + cond\n",
    "\n",
    "            traverse_if_children(node.body, context, cond)\n",
    "            traverse_if_children(node.orelse, context, not_cond)\n",
    "        else:\n",
    "            for child in ast.iter_child_nodes(node):\n",
    "                traverse(child, context)\n",
    "\n",
    "    traverse(tree, [])\n",
    "\n",
    "    return [\"z3.And(\" + \", \".join(path) + \")\" for path in paths]"
   ],
   "metadata": {
    "collapsed": false,
    "pycharm": {
     "name": "#%%\n",
     "is_executing": false
    }
   }
  },
  {
   "cell_type": "code",
   "execution_count": 14,
   "outputs": [
    {
     "data": {
      "text/plain": "['z3.And((a == b), (b == c))',\n 'z3.And((a == b), z3.Not(b == c))',\n 'z3.And(z3.Not(a == b), (b == c))',\n 'z3.And(z3.Not(a == b), z3.Not(b == c), (a == c))',\n 'z3.And(z3.Not(a == b), z3.Not(b == c), z3.Not(a == c))']"
     },
     "metadata": {},
     "output_type": "execute_result",
     "execution_count": 14
    }
   ],
   "source": [
    "path_conditions = collect_path_conditions(triangle_ast)\n",
    "path_conditions"
   ],
   "metadata": {
    "collapsed": false,
    "pycharm": {
     "name": "#%%\n",
     "is_executing": false
    }
   }
  },
  {
   "cell_type": "code",
   "execution_count": 15,
   "outputs": [],
   "source": [
    "import z3"
   ],
   "metadata": {
    "collapsed": false,
    "pycharm": {
     "name": "#%%\n",
     "is_executing": false
    }
   }
  },
  {
   "cell_type": "code",
   "execution_count": 16,
   "outputs": [],
   "source": [
    "a = z3.Int('a')\n",
    "b = z3.Int('b')\n",
    "c = z3.Int('c')\n",
    "\n",
    "s = z3.Solver()"
   ],
   "metadata": {
    "collapsed": false,
    "pycharm": {
     "name": "#%%\n",
     "is_executing": false
    }
   }
  },
  {
   "cell_type": "code",
   "execution_count": 28,
   "outputs": [
    {
     "name": "stdout",
     "text": [
      "[a = 1, b = 1, c = 1] equilateral\n[b = 1, a = 1, c = 2] isosceles #1\n[b = 2, a = 1, c = 2] isosceles #2\n[b = 1, a = 2, c = 2] isosceles #3\n[b = 2, a = 1, c = 3] scalene\n"
     ],
     "output_type": "stream"
    }
   ],
   "source": [
    "for path_condition in path_conditions:\n",
    "    s = z3.Solver()\n",
    "    s.add(a > 0, b > 0, c > 0)\n",
    "    eval(f\"s.check({path_condition})\")\n",
    "    m = s.model()\n",
    "    print(m, triangle(m[a].as_long(), m[b].as_long(), m[c].as_long()))"
   ],
   "metadata": {
    "collapsed": false,
    "pycharm": {
     "name": "#%%\n",
     "is_executing": false
    }
   }
  },
  {
   "cell_type": "code",
   "execution_count": null,
   "outputs": [],
   "source": [],
   "metadata": {
    "collapsed": false,
    "pycharm": {
     "name": "#%%\n",
     "is_executing": false
    }
   }
  }
 ],
 "metadata": {
  "kernelspec": {
   "name": "pycharm-83c0ec9a",
   "language": "python",
   "display_name": "PyCharm (N-Wouda.github.io)"
  },
  "language_info": {
   "codemirror_mode": {
    "name": "ipython",
    "version": 3
   },
   "file_extension": ".py",
   "mimetype": "text/x-python",
   "name": "python",
   "nbconvert_exporter": "python",
   "pygments_lexer": "ipython3",
   "version": "3.7.1"
  },
  "nikola": {
   "category": "",
   "date": "2020-11-24 13:33:07 UTC+01:00",
   "description": "",
   "link": "",
   "slug": "concolic-testing-in-python",
   "tags": "",
   "status": "draft",
   "title": "Concolic testing in Python",
   "type": "text"
  },
  "pycharm": {
   "stem_cell": {
    "cell_type": "raw",
    "source": [],
    "metadata": {
     "collapsed": false
    }
   }
  }
 },
 "nbformat": 4,
 "nbformat_minor": 2
}