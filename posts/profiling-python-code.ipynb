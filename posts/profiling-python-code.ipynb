{
 "cells": [
  {
   "cell_type": "markdown",
   "metadata": {},
   "source": [
    "Write your post here."
   ]
  }
 ],
 "metadata": {
  "kernelspec": {
   "display_name": "Python 3",
   "env": {},
   "interrupt_mode": "signal",
   "language": "python",
   "metadata": {},
   "name": "python3"
  },
  "nikola": {
   "category": "",
   "date": "2020-11-28 13:20:53 UTC+01:00",
   "description": "",
   "link": "",
   "status": "draft",
   "slug": "profiling-python-code",
   "tags": "",
   "title": "Profiling Python code",
   "type": "text"
  }
 },
 "nbformat": 4,
 "nbformat_minor": 2
}
