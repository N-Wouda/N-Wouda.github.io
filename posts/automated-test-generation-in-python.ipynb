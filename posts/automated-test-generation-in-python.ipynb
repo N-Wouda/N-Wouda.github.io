{
 "cells": [
  {
   "cell_type": "markdown",
   "metadata": {},
   "source": [
    "A few months ago, I inherited a code base devoid of any tests. I realised quite\n",
    "quickly there might be a better design for the entire project, and wanted to get\n",
    "there cautiously via continuous refactoring. \n",
    "\n",
    "Without the support harness of a test suite, it is hard to guarantee refactored\n",
    "code has the same functionality as the old, battle-tested code. As such, refactoring\n",
    "legacy projects begins with writing a test suite covering most (or all) execution\n",
    "paths. For my project I did this by hand, but that laborious process piqued my\n",
    "interest in automated test generation techniques.\n",
    "\n",
    "I recently came across [this](https://www.fuzzingbook.org/beta/html/PrototypingWithPython.html)\n",
    "fascinating piece by Andreas Zeller on automated testing techniques in Python.\n",
    "Zeller prototypes a symbolic test generator based around the `z3` SMT solver. His\n",
    "prototype is already impressive, but quite limited. We extend the symbolic approach,\n",
    "and also include concrete values from earlier executions, resulting in a simple\n",
    "concolic test generator.\n",
    "<!-- TEASER_END -->\n",
    "\n",
    "Let us first import the essentials."
   ]
  },
  {
   "cell_type": "code",
   "execution_count": 1,
   "outputs": [],
   "source": [
    "import ast\n",
    "import inspect\n",
    "\n",
    "import astor\n",
    "import z3"
   ],
   "metadata": {
    "collapsed": false,
    "pycharm": {
     "name": "#%%\n",
     "is_executing": false
    }
   }
  },
  {
   "cell_type": "markdown",
   "source": [
    "Zeller takes the following, well-known _triangle_ function that classifies a\n",
    "triangle with integral sides `a`, `b`, and `c` into one of three categories (type\n",
    "hints mine)."
   ],
   "metadata": {
    "collapsed": false
   }
  },
  {
   "cell_type": "code",
   "execution_count": 2,
   "outputs": [],
   "source": [
    "def triangle(a: int, b: int, c: int) -> str:\n",
    "    if a == b:\n",
    "        if b == c:\n",
    "            return 'equilateral'\n",
    "        else:\n",
    "            return 'isosceles #1'\n",
    "    else:\n",
    "        if b == c:\n",
    "            return 'isosceles #2'\n",
    "        else:\n",
    "            if a == c:\n",
    "                return 'isosceles #3'\n",
    "            else:\n",
    "                return 'scalene'"
   ],
   "metadata": {
    "collapsed": false,
    "pycharm": {
     "name": "#%%  \n",
     "is_executing": false
    }
   }
  },
  {
   "cell_type": "markdown",
   "source": [
    "In a few lines of code, he then develops a simple symbolic test generator that \n",
    "systematically creates test inputs covering all possible execution paths in the\n",
    "triangle function. The following cells reproduce the meat of his approach."
   ],
   "metadata": {
    "collapsed": false
   }
  },
  {
   "cell_type": "code",
   "execution_count": 3,
   "outputs": [],
   "source": [
    "triangle_source = inspect.getsource(triangle)\n",
    "triangle_ast = ast.parse(triangle_source)"
   ],
   "metadata": {
    "collapsed": false,
    "pycharm": {
     "name": "#%%\n",
     "is_executing": false
    }
   }
  },
  {
   "cell_type": "code",
   "execution_count": 4,
   "outputs": [],
   "source": [
    "def collect_path_conditions(tree):\n",
    "    paths = []\n",
    "\n",
    "    def traverse_if_children(children, context, cond):\n",
    "        old_paths = len(paths)\n",
    "\n",
    "        for child in children:\n",
    "            traverse(child, context + [cond])\n",
    "\n",
    "        if len(paths) == old_paths:\n",
    "            paths.append(context + [cond])\n",
    "\n",
    "    def traverse(node, context):\n",
    "        if isinstance(node, ast.If):\n",
    "            cond = astor.to_source(node.test).strip()\n",
    "            not_cond = \"z3.Not\" + cond\n",
    "\n",
    "            traverse_if_children(node.body, context, cond)\n",
    "            traverse_if_children(node.orelse, context, not_cond)\n",
    "        else:\n",
    "            for child in ast.iter_child_nodes(node):\n",
    "                traverse(child, context)\n",
    "\n",
    "    traverse(tree, [])\n",
    "\n",
    "    return [\"z3.And(\" + \", \".join(path) + \")\" for path in paths]"
   ],
   "metadata": {
    "collapsed": false,
    "pycharm": {
     "name": "#%%\n",
     "is_executing": false
    }
   }
  },
  {
   "cell_type": "code",
   "execution_count": 5,
   "outputs": [
    {
     "data": {
      "text/plain": "['z3.And((a == b), (b == c))',\n 'z3.And((a == b), z3.Not(b == c))',\n 'z3.And(z3.Not(a == b), (b == c))',\n 'z3.And(z3.Not(a == b), z3.Not(b == c), (a == c))',\n 'z3.And(z3.Not(a == b), z3.Not(b == c), z3.Not(a == c))']"
     },
     "metadata": {},
     "output_type": "execute_result",
     "execution_count": 5
    }
   ],
   "source": [
    "path_conditions = collect_path_conditions(triangle_ast)\n",
    "path_conditions"
   ],
   "metadata": {
    "collapsed": false,
    "pycharm": {
     "name": "#%%\n",
     "is_executing": false
    }
   }
  },
  {
   "cell_type": "code",
   "execution_count": 6,
   "outputs": [],
   "source": [
    "a = z3.Int('a')\n",
    "b = z3.Int('b')\n",
    "c = z3.Int('c')\n",
    "\n",
    "s = z3.Solver()"
   ],
   "metadata": {
    "collapsed": false,
    "pycharm": {
     "name": "#%%\n",
     "is_executing": false
    }
   }
  },
  {
   "cell_type": "code",
   "execution_count": 7,
   "outputs": [
    {
     "name": "stdout",
     "text": [
      "[b = 1, a = 1, c = 1] equilateral\n[b = 1, a = 1, c = 2] isosceles #1\n[b = 2, a = 1, c = 2] isosceles #2\n[b = 2, a = 1, c = 1] isosceles #3\n[b = 2, a = 1, c = 3] scalene\n"
     ],
     "output_type": "stream"
    }
   ],
   "source": [
    "for path_condition in path_conditions:\n",
    "    s = z3.Solver()\n",
    "    s.add(a > 0, b > 0, c > 0)\n",
    "    eval(f\"s.check({path_condition})\")\n",
    "    m = s.model()\n",
    "    print(m, triangle(m[a].as_long(), m[b].as_long(), m[c].as_long()))"
   ],
   "metadata": {
    "collapsed": false,
    "pycharm": {
     "name": "#%%\n",
     "is_executing": false
    }
   }
  },
  {
   "cell_type": "markdown",
   "source": [
    "From the output, it is clear that a simple function like _triangle_ can easily\n",
    "be tested using a symbolic test generator. \n",
    "\n",
    "The limitation, of course, is that most functions in realistic programmes are\n",
    "nowhere near as simple. In particular, symbolic testing any and all functions\n",
    "in a programme requires a full symbolic interpreter for the language. Not all\n",
    "Python constructs might be supported by the `z3` theories, but we can at least\n",
    "expand the current prototype to include many other common constructs.\n",
    "\n",
    "# Expanding the symbolic interpreter\n",
    "\n",
    "TODO\n",
    "\n",
    "## Looping constructs\n",
    "\n",
    "TODO\n",
    "\n",
    "## Function calls\n",
    "\n",
    "TODO\n",
    "\n",
    "## Flow control 2.0: returns and exceptions\n",
    "\n",
    "TODO"
   ],
   "metadata": {
    "collapsed": false
   }
  }
 ],
 "metadata": {
  "kernelspec": {
   "display_name": "Python 3",
   "env": {},
   "interrupt_mode": "signal",
   "language": "python",
   "metadata": {},
   "name": "python3"
  },
  "nikola": {
   "category": "",
   "date": "2020-11-26 23:15:42 UTC+01:00",
   "description": "",
   "link": "",
   "slug": "automated-test-generation-in-python",
   "tags": "",
   "status": "draft",
   "title": "Automated test generation in Python",
   "type": "text"
  },
  "pycharm": {
   "stem_cell": {
    "cell_type": "raw",
    "source": [],
    "metadata": {
     "collapsed": false
    }
   }
  }
 },
 "nbformat": 4,
 "nbformat_minor": 2
}